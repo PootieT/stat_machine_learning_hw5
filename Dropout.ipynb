{
 "metadata": {
  "anaconda-cloud": {},
  "kernelspec": {
   "display_name": "Python [default]",
   "language": "python",
   "name": "python2"
  },
  "language_info": {
   "codemirror_mode": {
    "name": "ipython",
    "version": 2
   },
   "file_extension": ".py",
   "mimetype": "text/x-python",
   "name": "python",
   "nbconvert_exporter": "python",
   "pygments_lexer": "ipython2",
   "version": "2.7.12"
  },
  "name": "",
  "signature": "sha256:b41c4c51fa4912efcf9852e092bb5d004814b7322533131416e30bdefcdcf923"
 },
 "nbformat": 3,
 "nbformat_minor": 0,
 "worksheets": [
  {
   "cells": [
    {
     "cell_type": "markdown",
     "metadata": {},
     "source": [
      "# Dropout\n",
      "Dropout [1] is a technique for regularizing neural networks by randomly setting some features to zero during the forward pass. In this exercise you will implement a dropout layer and modify your fully-connected network to optionally use dropout.\n",
      "\n",
      "[1] Geoffrey E. Hinton et al, \"Improving neural networks by preventing co-adaptation of feature detectors\", arXiv 2012"
     ]
    },
    {
     "cell_type": "code",
     "collapsed": false,
     "input": [
      "# As usual, a bit of setup\n",
      "\n",
      "import time\n",
      "import numpy as np\n",
      "import matplotlib.pyplot as plt\n",
      "from fc_net import *\n",
      "from data_utils import get_CIFAR10_data\n",
      "from gradient_check import eval_numerical_gradient, eval_numerical_gradient_array\n",
      "from solver import Solver\n",
      "\n",
      "%matplotlib inline\n",
      "plt.rcParams['figure.figsize'] = (10.0, 8.0) # set default size of plots\n",
      "plt.rcParams['image.interpolation'] = 'nearest'\n",
      "plt.rcParams['image.cmap'] = 'gray'\n",
      "\n",
      "# for auto-reloading external modules\n",
      "# see http://stackoverflow.com/questions/1907993/autoreload-of-modules-in-ipython\n",
      "%load_ext autoreload\n",
      "%autoreload 2\n",
      "\n",
      "def rel_error(x, y):\n",
      "  \"\"\" returns relative error \"\"\"\n",
      "  return np.max(np.abs(x - y) / (np.maximum(1e-8, np.abs(x) + np.abs(y))))"
     ],
     "language": "python",
     "metadata": {},
     "outputs": [
      {
       "output_type": "stream",
       "stream": "stdout",
       "text": [
        "run the following from the hw5 directory and try again:\n",
        "python setup.py build_ext --inplace\n",
        "You may also need to restart your iPython kernel\n"
       ]
      }
     ],
     "prompt_number": 1
    },
    {
     "cell_type": "code",
     "collapsed": false,
     "input": [
      "# Load the (preprocessed) CIFAR10 data.\n",
      "\n",
      "data = get_CIFAR10_data()\n",
      "for k, v in data.iteritems():\n",
      "  print '%s: ' % k, v.shape"
     ],
     "language": "python",
     "metadata": {},
     "outputs": [
      {
       "output_type": "stream",
       "stream": "stdout",
       "text": [
        "X_val:  (1000, 3, 32, 32)\n",
        "X_train:  (49000, 3, 32, 32)\n",
        "X_test:  (1000, 3, 32, 32)\n",
        "y_val:  (1000,)\n",
        "y_train:  (49000,)\n",
        "y_test:  (1000,)\n"
       ]
      }
     ],
     "prompt_number": 2
    },
    {
     "cell_type": "markdown",
     "metadata": {},
     "source": [
      "# Dropout forward pass\n",
      "In the file `layers.py`, implement the forward pass for dropout. Since dropout behaves differently during training and testing, make sure to implement the operation for both modes.\n",
      "\n",
      "While training, dropout is implemented by only keeping a unit in a hidden layer active with some probability p\n",
      "(a hyperparameter), or setting it to zero otherwise. A naive implementation of this approach will require us \n",
      "to scale hidden unit outputs during testing by the factor of p. Instead, we recommend the approach shown in\n",
      "pseudo-code below, called inverted drop out, in which we do the scaling during training time, so the predict function during testing remains the same.\n",
      "\n",
      "```python\n",
      "#### forward pass for example 3-layer neural network\n",
      "def train_step(X,p):\n",
      "  drop = 1 - p\n",
      "  H1 = np.maximum(0, np.dot(theta1, X) + theta1_0)\n",
      "  U1 = (np.random.rand(*H1.shape) < drop) / drop # first dropout mask. Notice /drop!\n",
      "  H1 *= U1 # drop!\n",
      "  H2 = np.maximum(0, np.dot(theta2, H1) + theta2_0)\n",
      "  U2 = (np.random.rand(*H2.shape) < drop) / drop # second dropout mask. Notice /drop!\n",
      "  H2 *= U2 # drop!\n",
      "  out = np.dot(theta3, H2) + theta3_0\n",
      "```\n",
      "\n",
      "Once you have done so, run the cell below to test your implementation."
     ]
    },
    {
     "cell_type": "code",
     "collapsed": false,
     "input": [
      "x = np.random.randn(500, 500) + 10\n",
      "\n",
      "for p in [0.3, 0.6, 0.75]:\n",
      "  out, _ = dropout_forward(x, {'mode': 'train', 'p': p})\n",
      "  out_test, _ = dropout_forward(x, {'mode': 'test', 'p': p})\n",
      "\n",
      "  print 'Running tests with p = ', p\n",
      "  print 'Mean of input: ', x.mean()\n",
      "  print 'Mean of train-time output: ', out.mean()\n",
      "  print 'Mean of test-time output: ', out_test.mean()\n",
      "  print 'Fraction of train-time output set to zero: ', (out == 0).mean()\n",
      "  print 'Fraction of test-time output set to zero: ', (out_test == 0).mean()\n",
      "  print"
     ],
     "language": "python",
     "metadata": {},
     "outputs": [
      {
       "output_type": "stream",
       "stream": "stdout",
       "text": [
        "Running tests with p =  0.3\n",
        "Mean of input:  10.001407122732093\n",
        "Mean of train-time output:  9.9876419598455\n",
        "Mean of test-time output:  10.001407122732093\n",
        "Fraction of train-time output set to zero:  0.30086\n",
        "Fraction of test-time output set to zero:  0.0\n",
        "\n",
        "Running tests with p =  0.6\n",
        "Mean of input:  10.001407122732093\n",
        "Mean of train-time output:  10.009416167554113\n",
        "Mean of test-time output:  10.001407122732093\n",
        "Fraction of train-time output set to zero:  0.599772\n",
        "Fraction of test-time output set to zero:  0.0\n",
        "\n",
        "Running tests with p =  0.75\n",
        "Mean of input:  10.001407122732093\n",
        "Mean of train-time output:  10.01382666456047\n",
        "Mean of test-time output:  10.001407122732093\n",
        "Fraction of train-time output set to zero:  0.749652\n",
        "Fraction of test-time output set to zero:  0.0\n",
        "\n"
       ]
      }
     ],
     "prompt_number": 8
    },
    {
     "cell_type": "markdown",
     "metadata": {},
     "source": [
      "# Dropout backward pass\n",
      "In the file `layers.py`, implement the backward pass for dropout. After doing so, run the following cell to numerically gradient-check your implementation."
     ]
    },
    {
     "cell_type": "code",
     "collapsed": false,
     "input": [
      "x = np.random.randn(10, 10) + 10\n",
      "dout = np.random.randn(*x.shape)\n",
      "\n",
      "dropout_param = {'mode': 'train', 'p': 0.8, 'seed': 123}\n",
      "out, cache = dropout_forward(x, dropout_param)\n",
      "dx = dropout_backward(dout, cache)\n",
      "dx_num = eval_numerical_gradient_array(lambda xx: dropout_forward(xx, dropout_param)[0], x, dout)\n",
      "\n",
      "print 'dx relative error: ', rel_error(dx, dx_num)"
     ],
     "language": "python",
     "metadata": {},
     "outputs": [
      {
       "output_type": "stream",
       "stream": "stdout",
       "text": [
        "dx relative error:  1.8929057382436947e-11\n"
       ]
      }
     ],
     "prompt_number": 12
    },
    {
     "cell_type": "markdown",
     "metadata": {},
     "source": [
      "# Fully-connected nets with Dropout\n",
      "In the file `fc_net.py`, modify your implementation to use dropout. Specifically, if the constructor of the net receives a nonzero value for the `dropout` parameter, then the net should add dropout immediately after every ReLU nonlinearity. After doing so, run the following to numerically gradient-check your implementation."
     ]
    },
    {
     "cell_type": "code",
     "collapsed": false,
     "input": [
      "m, d, h1, h2, C = 2, 15, 20, 30, 10\n",
      "X = np.random.randn(m, d)\n",
      "y = np.random.randint(C, size=(m,))\n",
      "\n",
      "for dropout in [0, 0.25, 0.5]:\n",
      "  print 'Running check with dropout = ', dropout\n",
      "  model = FullyConnectedNet([h1, h2], input_dim=d, num_classes=C,\n",
      "                            weight_scale=5e-2, dtype=np.float64,\n",
      "                            dropout=dropout, seed=123)\n",
      "\n",
      "  loss, grads = model.loss(X, y)\n",
      "  print 'Initial loss: ', loss\n",
      "\n",
      "  for name in sorted(grads):\n",
      "    f = lambda _: model.loss(X, y)[0]\n",
      "    grad_num = eval_numerical_gradient(f, model.params[name], verbose=False, h=1e-5)\n",
      "    print '%s relative error: %.2e' % (name, rel_error(grad_num, grads[name]))\n",
      "  print"
     ],
     "language": "python",
     "metadata": {},
     "outputs": [
      {
       "output_type": "stream",
       "stream": "stdout",
       "text": [
        "Running check with dropout =  0\n",
        "Initial loss:  2.3058920567801025\n",
        "theta1 relative error: 6.78e-06"
       ]
      },
      {
       "output_type": "stream",
       "stream": "stdout",
       "text": [
        "\n",
        "theta1_0 relative error: 2.66e-08\n",
        "theta2 relative error: 9.23e-07"
       ]
      },
      {
       "output_type": "stream",
       "stream": "stdout",
       "text": [
        "\n",
        "theta2_0 relative error: 1.28e-08\n",
        "theta3 relative error: 7.32e-08"
       ]
      },
      {
       "output_type": "stream",
       "stream": "stdout",
       "text": [
        "\n",
        "theta3_0 relative error: 1.67e-10\n",
        "\n",
        "Running check with dropout =  0.25\n"
       ]
      },
      {
       "ename": "ValueError",
       "evalue": "operands could not be broadcast together with shapes (2,30) (2,10) ",
       "output_type": "pyerr",
       "traceback": [
        "\u001b[0;31m---------------------------------------------------------------------------\u001b[0m\n\u001b[0;31mValueError\u001b[0m                                Traceback (most recent call last)",
        "\u001b[0;32m<ipython-input-20-4c7c7265f142>\u001b[0m in \u001b[0;36m<module>\u001b[0;34m()\u001b[0m\n\u001b[1;32m      9\u001b[0m                             dropout=dropout, seed=123)\n\u001b[1;32m     10\u001b[0m \u001b[0;34m\u001b[0m\u001b[0m\n\u001b[0;32m---> 11\u001b[0;31m   \u001b[0mloss\u001b[0m\u001b[0;34m,\u001b[0m \u001b[0mgrads\u001b[0m \u001b[0;34m=\u001b[0m \u001b[0mmodel\u001b[0m\u001b[0;34m.\u001b[0m\u001b[0mloss\u001b[0m\u001b[0;34m(\u001b[0m\u001b[0mX\u001b[0m\u001b[0;34m,\u001b[0m \u001b[0my\u001b[0m\u001b[0;34m)\u001b[0m\u001b[0;34m\u001b[0m\u001b[0m\n\u001b[0m\u001b[1;32m     12\u001b[0m   \u001b[0;32mprint\u001b[0m \u001b[0;34m'Initial loss: '\u001b[0m\u001b[0;34m,\u001b[0m \u001b[0mloss\u001b[0m\u001b[0;34m\u001b[0m\u001b[0m\n\u001b[1;32m     13\u001b[0m \u001b[0;34m\u001b[0m\u001b[0m\n",
        "\u001b[0;32m/media/peter/OS/serious stuff/Rice/Senior Spring/COMP 540 (Statistical Machine Learning)/homework/hw5/stat_machine_learning_hw5/fc_net.py\u001b[0m in \u001b[0;36mloss\u001b[0;34m(self, X, y)\u001b[0m\n\u001b[1;32m    267\u001b[0m       \u001b[0mdx\u001b[0m\u001b[0;34m,\u001b[0m \u001b[0mgrads\u001b[0m\u001b[0;34m[\u001b[0m\u001b[0;34m'theta'\u001b[0m\u001b[0;34m+\u001b[0m\u001b[0mstr\u001b[0m\u001b[0;34m(\u001b[0m\u001b[0mi\u001b[0m\u001b[0;34m)\u001b[0m\u001b[0;34m]\u001b[0m\u001b[0;34m,\u001b[0m \u001b[0mgrads\u001b[0m\u001b[0;34m[\u001b[0m\u001b[0;34m'theta'\u001b[0m\u001b[0;34m+\u001b[0m\u001b[0mstr\u001b[0m\u001b[0;34m(\u001b[0m\u001b[0mi\u001b[0m\u001b[0;34m)\u001b[0m\u001b[0;34m+\u001b[0m\u001b[0;34m'_0'\u001b[0m\u001b[0;34m]\u001b[0m \u001b[0;34m=\u001b[0m \u001b[0maffine_relu_backward\u001b[0m\u001b[0;34m(\u001b[0m\u001b[0mdx\u001b[0m\u001b[0;34m,\u001b[0m \u001b[0mcache_list\u001b[0m\u001b[0;34m[\u001b[0m\u001b[0mi\u001b[0m\u001b[0;34m-\u001b[0m\u001b[0;36m1\u001b[0m\u001b[0;34m]\u001b[0m\u001b[0;34m)\u001b[0m\u001b[0;34m\u001b[0m\u001b[0m\n\u001b[1;32m    268\u001b[0m       \u001b[0;32mif\u001b[0m \u001b[0mself\u001b[0m\u001b[0;34m.\u001b[0m\u001b[0muse_dropout\u001b[0m\u001b[0;34m:\u001b[0m\u001b[0;34m\u001b[0m\u001b[0m\n\u001b[0;32m--> 269\u001b[0;31m         \u001b[0mdx\u001b[0m \u001b[0;34m=\u001b[0m \u001b[0mdropout_backward\u001b[0m\u001b[0;34m(\u001b[0m\u001b[0mdx\u001b[0m\u001b[0;34m,\u001b[0m \u001b[0mdrop_cache_list\u001b[0m\u001b[0;34m[\u001b[0m\u001b[0mi\u001b[0m\u001b[0;34m-\u001b[0m\u001b[0;36m1\u001b[0m\u001b[0;34m]\u001b[0m\u001b[0;34m)\u001b[0m\u001b[0;34m\u001b[0m\u001b[0m\n\u001b[0m\u001b[1;32m    270\u001b[0m       \u001b[0mloss\u001b[0m \u001b[0;34m+=\u001b[0m \u001b[0;36m0.5\u001b[0m \u001b[0;34m*\u001b[0m \u001b[0mself\u001b[0m\u001b[0;34m.\u001b[0m\u001b[0mreg\u001b[0m \u001b[0;34m*\u001b[0m \u001b[0mnp\u001b[0m\u001b[0;34m.\u001b[0m\u001b[0msum\u001b[0m\u001b[0;34m(\u001b[0m\u001b[0mnp\u001b[0m\u001b[0;34m.\u001b[0m\u001b[0msquare\u001b[0m\u001b[0;34m(\u001b[0m\u001b[0mself\u001b[0m\u001b[0;34m.\u001b[0m\u001b[0mparams\u001b[0m\u001b[0;34m[\u001b[0m\u001b[0;34m'theta'\u001b[0m\u001b[0;34m+\u001b[0m\u001b[0mstr\u001b[0m\u001b[0;34m(\u001b[0m\u001b[0mi\u001b[0m\u001b[0;34m)\u001b[0m\u001b[0;34m]\u001b[0m\u001b[0;34m)\u001b[0m\u001b[0;34m)\u001b[0m\u001b[0;34m\u001b[0m\u001b[0m\n\u001b[1;32m    271\u001b[0m       \u001b[0mgrads\u001b[0m\u001b[0;34m[\u001b[0m\u001b[0;34m'theta'\u001b[0m\u001b[0;34m+\u001b[0m\u001b[0mstr\u001b[0m\u001b[0;34m(\u001b[0m\u001b[0mi\u001b[0m\u001b[0;34m)\u001b[0m\u001b[0;34m]\u001b[0m \u001b[0;34m+=\u001b[0m \u001b[0mself\u001b[0m\u001b[0;34m.\u001b[0m\u001b[0mreg\u001b[0m \u001b[0;34m*\u001b[0m \u001b[0mself\u001b[0m\u001b[0;34m.\u001b[0m\u001b[0mparams\u001b[0m\u001b[0;34m[\u001b[0m\u001b[0;34m'theta'\u001b[0m\u001b[0;34m+\u001b[0m\u001b[0mstr\u001b[0m\u001b[0;34m(\u001b[0m\u001b[0mi\u001b[0m\u001b[0;34m)\u001b[0m\u001b[0;34m]\u001b[0m\u001b[0;34m\u001b[0m\u001b[0m\n",
        "\u001b[0;32m/media/peter/OS/serious stuff/Rice/Senior Spring/COMP 540 (Statistical Machine Learning)/homework/hw5/stat_machine_learning_hw5/layers.py\u001b[0m in \u001b[0;36mdropout_backward\u001b[0;34m(dout, cache)\u001b[0m\n\u001b[1;32m    189\u001b[0m     \u001b[0;31m###########################################################################\u001b[0m\u001b[0;34m\u001b[0m\u001b[0;34m\u001b[0m\u001b[0m\n\u001b[1;32m    190\u001b[0m     \u001b[0;31m# 1 line of code expected\u001b[0m\u001b[0;34m\u001b[0m\u001b[0;34m\u001b[0m\u001b[0m\n\u001b[0;32m--> 191\u001b[0;31m     \u001b[0mdx\u001b[0m \u001b[0;34m=\u001b[0m \u001b[0mnp\u001b[0m\u001b[0;34m.\u001b[0m\u001b[0mmultiply\u001b[0m\u001b[0;34m(\u001b[0m\u001b[0mdout\u001b[0m\u001b[0;34m,\u001b[0m \u001b[0mcache\u001b[0m\u001b[0;34m[\u001b[0m\u001b[0;36m1\u001b[0m\u001b[0;34m]\u001b[0m\u001b[0;34m)\u001b[0m\u001b[0;34m\u001b[0m\u001b[0m\n\u001b[0m\u001b[1;32m    192\u001b[0m     \u001b[0;31m###########################################################################\u001b[0m\u001b[0;34m\u001b[0m\u001b[0;34m\u001b[0m\u001b[0m\n\u001b[1;32m    193\u001b[0m     \u001b[0;31m#                            END OF YOUR CODE                             #\u001b[0m\u001b[0;34m\u001b[0m\u001b[0;34m\u001b[0m\u001b[0m\n",
        "\u001b[0;31mValueError\u001b[0m: operands could not be broadcast together with shapes (2,30) (2,10) "
       ]
      }
     ],
     "prompt_number": 20
    },
    {
     "cell_type": "markdown",
     "metadata": {},
     "source": [
      "# Regularization experiment\n",
      "As an experiment, we will train a pair of two-layer networks on 500 training examples: one will use no dropout, and one will use a dropout probability of 0.75. We will then visualize the training and validation accuracies of the two networks over time."
     ]
    },
    {
     "cell_type": "code",
     "collapsed": false,
     "input": [
      "# Train two identical nets, one with dropout and one without\n",
      "\n",
      "num_train = 500\n",
      "small_data = {\n",
      "  'X_train': data['X_train'][:num_train],\n",
      "  'y_train': data['y_train'][:num_train],\n",
      "  'X_val': data['X_val'],\n",
      "  'y_val': data['y_val'],\n",
      "}\n",
      "\n",
      "solvers = {}\n",
      "dropout_choices = [0, 0.75]\n",
      "for dropout in dropout_choices:\n",
      "  model = FullyConnectedNet([500], dropout=dropout)\n",
      "  print dropout\n",
      "\n",
      "  solver = Solver(model, small_data,\n",
      "                  num_epochs=25, batch_size=100,\n",
      "                  update_rule='adam',\n",
      "                  optim_config={\n",
      "                    'learning_rate': 5e-4,\n",
      "                  },\n",
      "                  verbose=True, print_every=100)\n",
      "  solver.train()\n",
      "  solvers[dropout] = solver"
     ],
     "language": "python",
     "metadata": {
      "scrolled": false
     },
     "outputs": [],
     "prompt_number": null
    },
    {
     "cell_type": "code",
     "collapsed": false,
     "input": [
      "# Plot train and validation accuracies of the two models\n",
      "\n",
      "train_accs = []\n",
      "val_accs = []\n",
      "for dropout in dropout_choices:\n",
      "  solver = solvers[dropout]\n",
      "  train_accs.append(solver.train_acc_history[-1])\n",
      "  val_accs.append(solver.val_acc_history[-1])\n",
      "\n",
      "plt.subplot(3, 1, 1)\n",
      "for dropout in dropout_choices:\n",
      "  plt.plot(solvers[dropout].train_acc_history, 'o', label='%.2f dropout' % dropout)\n",
      "plt.title('Train accuracy')\n",
      "plt.xlabel('Epoch')\n",
      "plt.ylabel('Accuracy')\n",
      "plt.legend(ncol=2, loc='lower right')\n",
      "  \n",
      "plt.subplot(3, 1, 2)\n",
      "for dropout in dropout_choices:\n",
      "  plt.plot(solvers[dropout].val_acc_history, 'o', label='%.2f dropout' % dropout)\n",
      "plt.title('Val accuracy')\n",
      "plt.xlabel('Epoch')\n",
      "plt.ylabel('Accuracy')\n",
      "plt.legend(ncol=2, loc='lower right')\n",
      "\n",
      "plt.gcf().set_size_inches(15, 15)\n",
      "plt.show()"
     ],
     "language": "python",
     "metadata": {},
     "outputs": [],
     "prompt_number": null
    }
   ],
   "metadata": {}
  }
 ]
}