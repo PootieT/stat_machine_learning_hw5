{
 "metadata": {
  "anaconda-cloud": {},
  "kernelspec": {
   "display_name": "Python 2",
   "language": "python",
   "name": "python2"
  },
  "language_info": {
   "codemirror_mode": {
    "name": "ipython",
    "version": 2
   },
   "file_extension": ".py",
   "mimetype": "text/x-python",
   "name": "python",
   "nbconvert_exporter": "python",
   "pygments_lexer": "ipython2",
   "version": "2.7.13"
  },
  "name": "",
  "signature": "sha256:41d724486a26261bc95c07edba634bc1b79361f96d8e62adb403fd66547837aa"
 },
 "nbformat": 3,
 "nbformat_minor": 0,
 "worksheets": [
  {
   "cells": [
    {
     "cell_type": "markdown",
     "metadata": {},
     "source": [
      "# Fully-Connected Neural Nets\n",
      "Here we set up fully connected feedforward networks using a modular design so that we can implement different layer types in isolation and then snap them together into models with different architectures.\n",
      "\n",
      "In this exercise we will implement fully-connected networks using a  modular approach. For each layer we will implement a `forward` and a `backward` function. The `forward` function will receive inputs, weights, and other parameters and will return both an output and a `cache` object storing data needed for the backward pass, like this:\n",
      "\n",
      "```python\n",
      "def layer_forward(x, theta):\n",
      "  \"\"\" Receive inputs x and weights theta \"\"\"\n",
      "  # Do some computations ...\n",
      "  z = # ... some intermediate value\n",
      "  # Do some more computations ...\n",
      "  out = # the output\n",
      "   \n",
      "  cache = (x, theta, z, out) # Values we need to compute gradients\n",
      "   \n",
      "  return out, cache\n",
      "```\n",
      "\n",
      "The backward pass will receive upstream derivatives and the `cache` object, and will return gradients with respect to the inputs and weights, like this:\n",
      "\n",
      "```python\n",
      "def layer_backward(dout, cache):\n",
      "  \"\"\"\n",
      "  Receive derivative of loss with respect to outputs and cache,\n",
      "  and compute derivative with respect to inputs.\n",
      "  \"\"\"\n",
      "  # Unpack cache values\n",
      "  x, theta, z, out = cache\n",
      "  \n",
      "  # Use values in cache to compute derivatives\n",
      "  dx = # Derivative of loss with respect to x\n",
      "  dtheta = # Derivative of loss with respect to w\n",
      "  \n",
      "  return dx, dtheta\n",
      "```\n",
      "\n",
      "After implementing a bunch of layers this way, we will be able to easily combine them to build classifiers with different architectures.\n",
      "\n",
      "In addition to implementing fully-connected networks of arbitrary depth, we will also explore different update rules for optimization, and introduce Dropout as a regularizer and Batch Normalization as a tool to more efficiently optimize deep networks.\n",
      "  "
     ]
    },
    {
     "cell_type": "code",
     "collapsed": false,
     "input": [
      "# As usual, a bit of setup\n",
      "\n",
      "import time\n",
      "import numpy as np\n",
      "import matplotlib.pyplot as plt\n",
      "from fc_net import *\n",
      "from data_utils import get_CIFAR10_data\n",
      "from gradient_check import eval_numerical_gradient, eval_numerical_gradient_array\n",
      "from solver import Solver\n",
      "\n",
      "%matplotlib inline\n",
      "plt.rcParams['figure.figsize'] = (10.0, 8.0) # set default size of plots\n",
      "plt.rcParams['image.interpolation'] = 'nearest'\n",
      "plt.rcParams['image.cmap'] = 'gray'\n",
      "\n",
      "# for auto-reloading external modules\n",
      "# see http://stackoverflow.com/questions/1907993/autoreload-of-modules-in-ipython\n",
      "%load_ext autoreload\n",
      "%autoreload 2\n",
      "\n",
      "def rel_error(x, y):\n",
      "  \"\"\" returns relative error \"\"\"\n",
      "  return np.max(np.abs(x - y) / (np.maximum(1e-8, np.abs(x) + np.abs(y))))"
     ],
     "language": "python",
     "metadata": {},
     "outputs": [
      {
       "output_type": "stream",
       "stream": "stdout",
       "text": [
        "run the following from the hw5 directory and try again:\n",
        "python setup.py build_ext --inplace\n",
        "You may also need to restart your iPython kernel\n"
       ]
      }
     ],
     "prompt_number": 1
    },
    {
     "cell_type": "code",
     "collapsed": false,
     "input": [
      "# Load the (preprocessed) CIFAR10 data.\n",
      "\n",
      "data = get_CIFAR10_data()\n",
      "for k, v in data.iteritems():\n",
      "  print '%s: ' % k, v.shape"
     ],
     "language": "python",
     "metadata": {},
     "outputs": [
      {
       "output_type": "stream",
       "stream": "stdout",
       "text": [
        "X_val:  (1000, 3, 32, 32)\n",
        "X_train:  (49000, 3, 32, 32)\n",
        "X_test:  (1000, 3, 32, 32)\n",
        "y_val:  (1000,)\n",
        "y_train:  (49000,)\n",
        "y_test:  (1000,)\n"
       ]
      }
     ],
     "prompt_number": 2
    },
    {
     "cell_type": "markdown",
     "metadata": {},
     "source": [
      "# Affine layer: foward\n",
      "Open the file `layers.py` and implement the `affine_forward` function.\n",
      "\n",
      "Once you are done you can test your implementation by running the following:"
     ]
    },
    {
     "cell_type": "code",
     "collapsed": false,
     "input": [
      "# Test the affine_forward function\n",
      "\n",
      "num_inputs = 2\n",
      "input_shape = (4, 5, 6)\n",
      "output_dim = 3\n",
      "\n",
      "input_size = num_inputs * np.prod(input_shape)\n",
      "weight_size = output_dim * np.prod(input_shape)\n",
      "\n",
      "x = np.linspace(-0.1, 0.5, num=input_size).reshape(num_inputs, *input_shape)\n",
      "theta = np.linspace(-0.2, 0.3, num=weight_size).reshape(np.prod(input_shape),output_dim)\n",
      "theta0 = np.linspace(-0.3, 0.1, num=output_dim)\n",
      "\n",
      "out, _ = affine_forward(x, theta, theta0)\n",
      "correct_out = np.array([[ 1.49834967,  1.70660132,  1.91485297],\n",
      "                        [ 3.25553199,  3.5141327,   3.77273342]])\n",
      "\n",
      "# Compare your output with ours. The error should be around 1e-9.\n",
      "print 'Testing affine_forward function:'\n",
      "print 'difference: ', rel_error(out, correct_out)"
     ],
     "language": "python",
     "metadata": {},
     "outputs": [
      {
       "output_type": "stream",
       "stream": "stdout",
       "text": [
        "Testing affine_forward function:\n",
        "difference:  9.769849468192957e-10\n"
       ]
      }
     ],
     "prompt_number": 3
    },
    {
     "cell_type": "markdown",
     "metadata": {},
     "source": [
      "# Affine layer: backward\n",
      "Now implement the `affine_backward` function and test your implementation using numeric gradient checking."
     ]
    },
    {
     "cell_type": "code",
     "collapsed": false,
     "input": [
      "# Test the affine_backward function\n",
      "\n",
      "x = np.random.randn(10, 2, 3)\n",
      "theta = np.random.randn(6, 5)\n",
      "theta0 = np.random.randn(5)\n",
      "dout = np.random.randn(10, 5)\n",
      "\n",
      "dx_num = eval_numerical_gradient_array(lambda x: affine_forward(x, theta, theta0)[0], x, dout)\n",
      "dtheta_num = eval_numerical_gradient_array(lambda theta: affine_forward(x, theta, theta0)[0], theta, dout)\n",
      "dtheta0_num = eval_numerical_gradient_array(lambda theta0: affine_forward(x, theta, theta0)[0], theta0, dout)\n",
      "\n",
      "_, cache = affine_forward(x, theta, theta0)\n",
      "dx, dtheta, dtheta0 = affine_backward(dout, cache)\n",
      "\n",
      "# The error should be less than 1e-09\n",
      "print 'Testing affine_backward function:'\n",
      "print 'dx error: ', rel_error(dx_num, dx)\n",
      "print 'dtheta error: ', rel_error(dtheta_num, dtheta)\n",
      "print 'dtheta0 error: ', rel_error(dtheta0_num, dtheta0)"
     ],
     "language": "python",
     "metadata": {},
     "outputs": [
      {
       "output_type": "stream",
       "stream": "stdout",
       "text": [
        "Testing affine_backward function:\n",
        "dx error:  5.525308310611874e-11\n",
        "dtheta error:  1.9498347152942363e-11\n",
        "dtheta0 error:  1.0052737992838518e-11\n"
       ]
      }
     ],
     "prompt_number": 4
    },
    {
     "cell_type": "markdown",
     "metadata": {},
     "source": [
      "# ReLU layer: forward\n",
      "Implement the forward pass for the ReLU activation function in the `relu_forward` function and test your implementation using the following:"
     ]
    },
    {
     "cell_type": "code",
     "collapsed": false,
     "input": [
      "# Test the relu_forward function\n",
      "\n",
      "x = np.linspace(-0.5, 0.5, num=12).reshape(3, 4)\n",
      "\n",
      "out, _ = relu_forward(x)\n",
      "correct_out = np.array([[ 0.,          0.,          0.,          0.,        ],\n",
      "                        [ 0.,          0.,          0.04545455,  0.13636364,],\n",
      "                        [ 0.22727273,  0.31818182,  0.40909091,  0.5,       ]])\n",
      "\n",
      "# Compare your output with ours. The error should be around 1e-8\n",
      "print 'Testing relu_forward function:'\n",
      "print 'difference: ', rel_error(out, correct_out)"
     ],
     "language": "python",
     "metadata": {},
     "outputs": [
      {
       "output_type": "stream",
       "stream": "stdout",
       "text": [
        "Testing relu_forward function:\n",
        "difference:  4.999999798022158e-08\n"
       ]
      }
     ],
     "prompt_number": 5
    },
    {
     "cell_type": "markdown",
     "metadata": {},
     "source": [
      "# ReLU layer: backward\n",
      "Now implement the backward pass for the ReLU activation function in the `relu_backward` function and test your implementation using numeric gradient checking:"
     ]
    },
    {
     "cell_type": "code",
     "collapsed": false,
     "input": [
      "x = np.random.randn(10, 10)\n",
      "dout = np.random.randn(*x.shape)\n",
      "\n",
      "dx_num = eval_numerical_gradient_array(lambda x: relu_forward(x)[0], x, dout)\n",
      "\n",
      "_, cache = relu_forward(x)\n",
      "dx = relu_backward(dout, cache)\n",
      "\n",
      "# The error should be around 1e-12\n",
      "print 'Testing relu_backward function:'\n",
      "print 'dx error: ', rel_error(dx_num, dx)\n",
      "# for j in range(len(x[0,:])):\n",
      "#     print('{0:3f} \\t {1:3f} \\t {2:3f}'.format(x[0,j], dx[0,j], dx_num[0,j]))"
     ],
     "language": "python",
     "metadata": {},
     "outputs": [
      {
       "output_type": "stream",
       "stream": "stdout",
       "text": [
        "Testing relu_backward function:\n",
        "dx error:  3.275613887956761e-12\n"
       ]
      }
     ],
     "prompt_number": 6
    },
    {
     "cell_type": "markdown",
     "metadata": {},
     "source": [
      "# \"Sandwich\" layers\n",
      "There are some common patterns of layers that are frequently used in neural nets. For example, affine layers are frequently followed by a ReLU nonlinearity. To make these common patterns easy, we define several convenience layers in the file `layer_utils.py`.\n",
      "\n",
      "For now take a look at the `affine_relu_forward` and `affine_relu_backward` functions, and run the following to numerically gradient check the backward pass:"
     ]
    },
    {
     "cell_type": "code",
     "collapsed": false,
     "input": [
      "from layer_utils import affine_relu_forward, affine_relu_backward\n",
      "\n",
      "x = np.random.randn(2, 3, 4)\n",
      "theta = np.random.randn(12, 10)\n",
      "theta0 = np.random.randn(10)\n",
      "dout = np.random.randn(2, 10)\n",
      "\n",
      "out, cache = affine_relu_forward(x, theta, theta0)\n",
      "dx, dtheta, dtheta0 = affine_relu_backward(dout, cache)\n",
      "\n",
      "dx_num = eval_numerical_gradient_array(lambda x: affine_relu_forward(x, theta, theta0)[0], x, dout)\n",
      "dtheta_num = eval_numerical_gradient_array(lambda w: affine_relu_forward(x, theta, theta0)[0], theta, dout)\n",
      "dtheta0_num = eval_numerical_gradient_array(lambda b: affine_relu_forward(x, theta, theta0)[0], theta0, dout)\n",
      "\n",
      "print 'Testing affine_relu_backward:'\n",
      "print 'dx error: ', rel_error(dx_num, dx)\n",
      "print 'dtheta error: ', rel_error(dtheta_num, dtheta)\n",
      "print 'dtheta0 error: ', rel_error(dtheta0_num, dtheta0)"
     ],
     "language": "python",
     "metadata": {},
     "outputs": [
      {
       "output_type": "stream",
       "stream": "stdout",
       "text": [
        "Testing affine_relu_backward:\n",
        "dx error:  6.760574817661422e-11\n",
        "dtheta error:  7.833468971388103e-10\n",
        "dtheta0 error:  3.097546109013358e-11\n"
       ]
      }
     ],
     "prompt_number": 7
    },
    {
     "cell_type": "markdown",
     "metadata": {},
     "source": [
      "# Loss layers: Softmax and SVM\n",
      "You implemented these loss functions in the last assignment, so we'll give them to you for free here. You should still make sure you understand how they work by looking at the implementations in `layers.py`.\n",
      "\n",
      "You can make sure that the implementations are correct by running the following:"
     ]
    },
    {
     "cell_type": "code",
     "collapsed": false,
     "input": [
      "num_classes, num_inputs = 10, 50\n",
      "x = 0.001 * np.random.randn(num_inputs, num_classes)\n",
      "y = np.random.randint(num_classes, size=num_inputs)\n",
      "\n",
      "dx_num = eval_numerical_gradient(lambda x: svm_loss(x, y)[0], x, verbose=False)\n",
      "loss, dx = svm_loss(x, y)\n",
      "\n",
      "# Test svm_loss function. Loss should be around 9 and dx error should be 1e-9\n",
      "print 'Testing svm_loss:'\n",
      "print 'loss: ', loss\n",
      "print 'dx error: ', rel_error(dx_num, dx)\n",
      "\n",
      "dx_num = eval_numerical_gradient(lambda x: softmax_loss(x, y)[0], x, verbose=False)\n",
      "loss, dx = softmax_loss(x, y)\n",
      "\n",
      "# Test softmax_loss function. Loss should be 2.3 and dx error should be 1e-8\n",
      "print '\\nTesting softmax_loss:'\n",
      "print 'loss: ', loss\n",
      "print 'dx error: ', rel_error(dx_num, dx)"
     ],
     "language": "python",
     "metadata": {},
     "outputs": [
      {
       "output_type": "stream",
       "stream": "stdout",
       "text": [
        "Testing svm_loss:\n",
        "loss:  9.000009928220415\n",
        "dx error:  1.4021566006651672e-09\n",
        "\n",
        "Testing softmax_loss:"
       ]
      },
      {
       "output_type": "stream",
       "stream": "stdout",
       "text": [
        "\n",
        "loss:  2.3025865144373276\n",
        "dx error:  7.008748582993648e-09\n"
       ]
      }
     ],
     "prompt_number": 8
    },
    {
     "cell_type": "markdown",
     "metadata": {},
     "source": [
      "# Two-layer network\n",
      "\n",
      "Open the file `fc_net.py` and complete the implementation of the `TwoLayerNet` class. This class will serve as a model for the other networks you will implement in this assignment, so read through it to make sure you understand the API. You can run the cell below to test your implementation."
     ]
    },
    {
     "cell_type": "code",
     "collapsed": false,
     "input": [
      "m, d, h, C = 3, 5, 50, 7\n",
      "X = np.random.randn(m, d)\n",
      "y = np.random.randint(C, size=m)\n",
      "\n",
      "std = 1e-2\n",
      "model = TwoLayerNet(input_dim=d, hidden_dim=h, num_classes=C, weight_scale=std)\n",
      "\n",
      "print 'Testing initialization ... '\n",
      "theta1_std = abs(model.params['theta1'].std() - std)\n",
      "theta1_0 = model.params['theta1_0']\n",
      "theta2_std = abs(model.params['theta2'].std() - std)\n",
      "theta2_0 = model.params['theta2_0']\n",
      "assert theta1_std < std / 10, 'First layer weights do not seem right'\n",
      "assert np.all(theta1_0 == 0), 'First layer biases do not seem right'\n",
      "assert theta2_std < std / 10, 'Second layer weights do not seem right'\n",
      "assert np.all(theta2_0 == 0), 'Second layer biases do not seem right'\n",
      "\n",
      "print 'Testing test-time forward pass ... '\n",
      "model.params['theta1'] = np.linspace(-0.7, 0.3, num=d*h).reshape(d, h)\n",
      "model.params['theta1_0'] = np.linspace(-0.1, 0.9, num=h)\n",
      "model.params['theta2'] = np.linspace(-0.3, 0.4, num=h*C).reshape(h, C)\n",
      "model.params['theta2_0'] = np.linspace(-0.9, 0.1, num=C)\n",
      "X = np.linspace(-5.5, 4.5, num=m*d).reshape(d, m).T\n",
      "scores = model.loss(X)\n",
      "correct_scores = np.asarray(\n",
      "  [[11.53165108,  12.2917344,   13.05181771,  13.81190102,  14.57198434, 15.33206765,  16.09215096],\n",
      "   [12.05769098,  12.74614105,  13.43459113,  14.1230412,   14.81149128, 15.49994135,  16.18839143],\n",
      "   [12.58373087,  13.20054771,  13.81736455,  14.43418138,  15.05099822, 15.66781506,  16.2846319 ]])\n",
      "scores_diff = np.abs(scores - correct_scores).sum()\n",
      "print(scores_diff)\n",
      "assert scores_diff < 1e-6, 'Problem with test-time forward pass'\n",
      "\n",
      "print 'Testing training loss (no regularization)'\n",
      "y = np.asarray([0, 5, 1])\n",
      "loss, grads = model.loss(X, y)\n",
      "correct_loss = 3.4702243556\n",
      "assert abs(loss - correct_loss) < 1e-10, 'Problem with training-time loss'\n",
      "\n",
      "model.reg = 1.0\n",
      "loss, grads = model.loss(X, y)\n",
      "correct_loss = 26.5948426952\n",
      "assert abs(loss - correct_loss) < 1e-10, 'Problem with regularization loss'\n",
      "\n",
      "for reg in [0.0, 0.7]:\n",
      "  print 'Running numeric gradient check with reg = ', reg\n",
      "  model.reg = reg\n",
      "  loss, grads = model.loss(X, y)\n",
      "\n",
      "  for name in sorted(grads):\n",
      "    f = lambda _: model.loss(X, y)[0]\n",
      "    grad_num = eval_numerical_gradient(f, model.params[name], verbose=False)\n",
      "    print '%s relative error: %.2e' % (name, rel_error(grad_num, grads[name]))"
     ],
     "language": "python",
     "metadata": {},
     "outputs": [
      {
       "output_type": "stream",
       "stream": "stdout",
       "text": [
        "Testing initialization ... \n",
        "Testing test-time forward pass ... \n",
        "5.115852452775016e-08\n",
        "Testing training loss (no regularization)\n",
        "Running numeric gradient check with reg =  0.0\n",
        "theta1 relative error: 1.83e-08"
       ]
      },
      {
       "output_type": "stream",
       "stream": "stdout",
       "text": [
        "\n",
        "theta1_0 relative error: 9.83e-09\n",
        "theta2 relative error: 3.20e-10"
       ]
      },
      {
       "output_type": "stream",
       "stream": "stdout",
       "text": [
        "\n",
        "theta2_0 relative error: 4.33e-10\n",
        "Running numeric gradient check with reg =  0.7\n",
        "theta1 relative error: 3.12e-07"
       ]
      },
      {
       "output_type": "stream",
       "stream": "stdout",
       "text": [
        "\n",
        "theta1_0 relative error: 1.35e-08\n",
        "theta2 relative error: 7.98e-08"
       ]
      },
      {
       "output_type": "stream",
       "stream": "stdout",
       "text": [
        "\n",
        "theta2_0 relative error: 1.97e-09\n"
       ]
      }
     ],
     "prompt_number": 9
    },
    {
     "cell_type": "markdown",
     "metadata": {},
     "source": [
      "# Solver\n",
      "In the previous assignment, the logic for training models was coupled to the models themselves. Following a more modular design, for this assignment we have split the logic for training models into a separate class.\n",
      "\n",
      "Open the file `solver.py` and read through it to familiarize yourself with the API. After doing so, use a `Solver` instance to train a `TwoLayerNet` that achieves at least `50%` accuracy on the validation set."
     ]
    },
    {
     "cell_type": "code",
     "collapsed": false,
     "input": [
      "\n",
      "\n",
      "model = TwoLayerNet()\n",
      "sgd_solver = None\n",
      "\n",
      "##############################################################################\n",
      "# TODO: Use a Solver instance to train a TwoLayerNet that achieves at least  #\n",
      "# 50% accuracy on the validation set.                                        #\n",
      "##############################################################################\n",
      "sgd_solver = Solver(model, data,\n",
      "              update_rule='sgd',\n",
      "              optim_config={\n",
      "                'learning_rate': 1e-3,\n",
      "              },\n",
      "              lr_decay=0.95,\n",
      "              num_epochs=10, batch_size=100,\n",
      "              print_every=100)\n",
      "sgd_solver.train()\n",
      "sgd_solver.check_accuracy(data['X_val'], data['y_val'])\n",
      "\n",
      "##############################################################################\n",
      "#                             END OF YOUR CODE                               #\n",
      "##############################################################################"
     ],
     "language": "python",
     "metadata": {},
     "outputs": [
      {
       "output_type": "stream",
       "stream": "stdout",
       "text": [
        "(Iteration 1 / 4900) loss: 2.304817\n",
        "(Epoch 0 / 10) train acc: 0.149000; val_acc: 0.124000"
       ]
      },
      {
       "output_type": "stream",
       "stream": "stdout",
       "text": [
        "\n",
        "(Iteration 101 / 4900) loss: 1.699154"
       ]
      },
      {
       "output_type": "stream",
       "stream": "stdout",
       "text": [
        "\n",
        "(Iteration 201 / 4900) loss: 1.640903"
       ]
      },
      {
       "output_type": "stream",
       "stream": "stdout",
       "text": [
        "\n",
        "(Iteration 301 / 4900) loss: 1.769120"
       ]
      },
      {
       "output_type": "stream",
       "stream": "stdout",
       "text": [
        "\n",
        "(Iteration 401 / 4900) loss: 1.449244"
       ]
      },
      {
       "output_type": "stream",
       "stream": "stdout",
       "text": [
        "\n",
        "(Epoch 1 / 10) train acc: 0.461000; val_acc: 0.452000"
       ]
      },
      {
       "output_type": "stream",
       "stream": "stdout",
       "text": [
        "\n",
        "(Iteration 501 / 4900) loss: 1.509052"
       ]
      },
      {
       "output_type": "stream",
       "stream": "stdout",
       "text": [
        "\n",
        "(Iteration 601 / 4900) loss: 1.414423"
       ]
      },
      {
       "output_type": "stream",
       "stream": "stdout",
       "text": [
        "\n",
        "(Iteration 701 / 4900) loss: 1.414559"
       ]
      },
      {
       "output_type": "stream",
       "stream": "stdout",
       "text": [
        "\n",
        "(Iteration 801 / 4900) loss: 1.428247"
       ]
      },
      {
       "output_type": "stream",
       "stream": "stdout",
       "text": [
        "\n",
        "(Iteration 901 / 4900) loss: 1.330258"
       ]
      },
      {
       "output_type": "stream",
       "stream": "stdout",
       "text": [
        "\n",
        "(Epoch 2 / 10) train acc: 0.479000; val_acc: 0.477000"
       ]
      },
      {
       "output_type": "stream",
       "stream": "stdout",
       "text": [
        "\n",
        "(Iteration 1001 / 4900) loss: 1.252120"
       ]
      },
      {
       "output_type": "stream",
       "stream": "stdout",
       "text": [
        "\n",
        "(Iteration 1101 / 4900) loss: 1.374306"
       ]
      },
      {
       "output_type": "stream",
       "stream": "stdout",
       "text": [
        "\n",
        "(Iteration 1201 / 4900) loss: 1.401768"
       ]
      },
      {
       "output_type": "stream",
       "stream": "stdout",
       "text": [
        "\n",
        "(Iteration 1301 / 4900) loss: 1.560837"
       ]
      },
      {
       "output_type": "stream",
       "stream": "stdout",
       "text": [
        "\n",
        "(Iteration 1401 / 4900) loss: 1.386032"
       ]
      },
      {
       "output_type": "stream",
       "stream": "stdout",
       "text": [
        "\n",
        "(Epoch 3 / 10) train acc: 0.514000; val_acc: 0.485000"
       ]
      },
      {
       "output_type": "stream",
       "stream": "stdout",
       "text": [
        "\n",
        "(Iteration 1501 / 4900) loss: 1.440117"
       ]
      },
      {
       "output_type": "stream",
       "stream": "stdout",
       "text": [
        "\n",
        "(Iteration 1601 / 4900) loss: 1.394365"
       ]
      },
      {
       "output_type": "stream",
       "stream": "stdout",
       "text": [
        "\n",
        "(Iteration 1701 / 4900) loss: 1.337328"
       ]
      },
      {
       "output_type": "stream",
       "stream": "stdout",
       "text": [
        "\n",
        "(Iteration 1801 / 4900) loss: 1.486713"
       ]
      },
      {
       "output_type": "stream",
       "stream": "stdout",
       "text": [
        "\n",
        "(Iteration 1901 / 4900) loss: 1.386858"
       ]
      },
      {
       "output_type": "stream",
       "stream": "stdout",
       "text": [
        "\n",
        "(Epoch 4 / 10) train acc: 0.542000; val_acc: 0.485000"
       ]
      },
      {
       "output_type": "stream",
       "stream": "stdout",
       "text": [
        "\n",
        "(Iteration 2001 / 4900) loss: 1.313139"
       ]
      },
      {
       "output_type": "stream",
       "stream": "stdout",
       "text": [
        "\n",
        "(Iteration 2101 / 4900) loss: 1.139319"
       ]
      },
      {
       "output_type": "stream",
       "stream": "stdout",
       "text": [
        "\n",
        "(Iteration 2201 / 4900) loss: 1.327033"
       ]
      },
      {
       "output_type": "stream",
       "stream": "stdout",
       "text": [
        "\n",
        "(Iteration 2301 / 4900) loss: 1.405332"
       ]
      },
      {
       "output_type": "stream",
       "stream": "stdout",
       "text": [
        "\n",
        "(Iteration 2401 / 4900) loss: 1.206459"
       ]
      },
      {
       "output_type": "stream",
       "stream": "stdout",
       "text": [
        "\n",
        "(Epoch 5 / 10) train acc: 0.562000; val_acc: 0.514000"
       ]
      },
      {
       "output_type": "stream",
       "stream": "stdout",
       "text": [
        "\n",
        "(Iteration 2501 / 4900) loss: 1.386615"
       ]
      },
      {
       "output_type": "stream",
       "stream": "stdout",
       "text": [
        "\n",
        "(Iteration 2601 / 4900) loss: 1.183497"
       ]
      },
      {
       "output_type": "stream",
       "stream": "stdout",
       "text": [
        "\n",
        "(Iteration 2701 / 4900) loss: 1.333814"
       ]
      },
      {
       "output_type": "stream",
       "stream": "stdout",
       "text": [
        "\n",
        "(Iteration 2801 / 4900) loss: 1.167028"
       ]
      },
      {
       "output_type": "stream",
       "stream": "stdout",
       "text": [
        "\n",
        "(Iteration 2901 / 4900) loss: 1.282248"
       ]
      },
      {
       "output_type": "stream",
       "stream": "stdout",
       "text": [
        "\n",
        "(Epoch 6 / 10) train acc: 0.562000; val_acc: 0.504000"
       ]
      },
      {
       "output_type": "stream",
       "stream": "stdout",
       "text": [
        "\n",
        "(Iteration 3001 / 4900) loss: 1.250033"
       ]
      },
      {
       "output_type": "stream",
       "stream": "stdout",
       "text": [
        "\n",
        "(Iteration 3101 / 4900) loss: 1.199569"
       ]
      },
      {
       "output_type": "stream",
       "stream": "stdout",
       "text": [
        "\n",
        "(Iteration 3201 / 4900) loss: 1.151567"
       ]
      },
      {
       "output_type": "stream",
       "stream": "stdout",
       "text": [
        "\n",
        "(Iteration 3301 / 4900) loss: 1.310176"
       ]
      },
      {
       "output_type": "stream",
       "stream": "stdout",
       "text": [
        "\n",
        "(Iteration 3401 / 4900) loss: 1.122157"
       ]
      },
      {
       "output_type": "stream",
       "stream": "stdout",
       "text": [
        "\n",
        "(Epoch 7 / 10) train acc: 0.553000; val_acc: 0.492000"
       ]
      },
      {
       "output_type": "stream",
       "stream": "stdout",
       "text": [
        "\n",
        "(Iteration 3501 / 4900) loss: 1.046670"
       ]
      },
      {
       "output_type": "stream",
       "stream": "stdout",
       "text": [
        "\n",
        "(Iteration 3601 / 4900) loss: 1.147547"
       ]
      },
      {
       "output_type": "stream",
       "stream": "stdout",
       "text": [
        "\n",
        "(Iteration 3701 / 4900) loss: 1.068221"
       ]
      },
      {
       "output_type": "stream",
       "stream": "stdout",
       "text": [
        "\n",
        "(Iteration 3801 / 4900) loss: 1.108743"
       ]
      },
      {
       "output_type": "stream",
       "stream": "stdout",
       "text": [
        "\n",
        "(Iteration 3901 / 4900) loss: 1.276435"
       ]
      },
      {
       "output_type": "stream",
       "stream": "stdout",
       "text": [
        "\n",
        "(Epoch 8 / 10) train acc: 0.586000; val_acc: 0.517000"
       ]
      },
      {
       "output_type": "stream",
       "stream": "stdout",
       "text": [
        "\n",
        "(Iteration 4001 / 4900) loss: 1.073614"
       ]
      },
      {
       "output_type": "stream",
       "stream": "stdout",
       "text": [
        "\n",
        "(Iteration 4101 / 4900) loss: 1.178965"
       ]
      },
      {
       "output_type": "stream",
       "stream": "stdout",
       "text": [
        "\n",
        "(Iteration 4201 / 4900) loss: 1.128420"
       ]
      },
      {
       "output_type": "stream",
       "stream": "stdout",
       "text": [
        "\n",
        "(Iteration 4301 / 4900) loss: 1.135599"
       ]
      },
      {
       "output_type": "stream",
       "stream": "stdout",
       "text": [
        "\n",
        "(Iteration 4401 / 4900) loss: 1.170722"
       ]
      },
      {
       "output_type": "stream",
       "stream": "stdout",
       "text": [
        "\n",
        "(Epoch 9 / 10) train acc: 0.597000; val_acc: 0.516000"
       ]
      },
      {
       "output_type": "stream",
       "stream": "stdout",
       "text": [
        "\n",
        "(Iteration 4501 / 4900) loss: 1.284673"
       ]
      },
      {
       "output_type": "stream",
       "stream": "stdout",
       "text": [
        "\n",
        "(Iteration 4601 / 4900) loss: 1.135485"
       ]
      },
      {
       "output_type": "stream",
       "stream": "stdout",
       "text": [
        "\n",
        "(Iteration 4701 / 4900) loss: 1.183814"
       ]
      },
      {
       "output_type": "stream",
       "stream": "stdout",
       "text": [
        "\n",
        "(Iteration 4801 / 4900) loss: 1.071876"
       ]
      },
      {
       "output_type": "stream",
       "stream": "stdout",
       "text": [
        "\n",
        "(Epoch 10 / 10) train acc: 0.629000; val_acc: 0.514000"
       ]
      },
      {
       "output_type": "stream",
       "stream": "stdout",
       "text": [
        "\n"
       ]
      },
      {
       "metadata": {},
       "output_type": "pyout",
       "prompt_number": 10,
       "text": [
        "0.517"
       ]
      }
     ],
     "prompt_number": 10
    },
    {
     "cell_type": "code",
     "collapsed": false,
     "input": [
      "# Run this cell to visualize training loss and train / val accuracy\n",
      "\n",
      "plt.subplot(2, 1, 1)\n",
      "plt.title('Training loss')\n",
      "plt.plot(sgd_solver.loss_history, 'o')\n",
      "plt.xlabel('Iteration')\n",
      "\n",
      "plt.subplot(2, 1, 2)\n",
      "plt.title('Accuracy')\n",
      "plt.plot(sgd_solver.train_acc_history, '-o', label='train')\n",
      "plt.plot(sgd_solver.val_acc_history, '-o', label='val')\n",
      "plt.plot([0.5] * len(sgd_solver.val_acc_history), 'k--')\n",
      "plt.xlabel('Epoch')\n",
      "plt.legend(loc='lower right')\n",
      "plt.gcf().set_size_inches(15, 12)\n",
      "plt.show()"
     ],
     "language": "python",
     "metadata": {},
     "outputs": [
      {
       "metadata": {},
       "output_type": "display_data",
       "png": "[encoded data removed]",
       "text": [
        "<matplotlib.figure.Figure at 0x7f79f834e250>"
       ]
      }
     ],
     "prompt_number": 11
    },
    {
     "cell_type": "markdown",
     "metadata": {},
     "source": [
      "# Multilayer network\n",
      "Next you will implement a fully-connected network with an arbitrary number of hidden layers.\n",
      "\n",
      "Read through the `FullyConnectedNet` class in the file `fc_net.py`.\n",
      "\n",
      "Implement the initialization, the forward pass, and the backward pass. For the moment don't worry about implementing dropout or batch normalization; we will add those features soon."
     ]
    },
    {
     "cell_type": "heading",
     "level": 2,
     "metadata": {},
     "source": [
      "Initial loss and gradient check"
     ]
    },
    {
     "cell_type": "markdown",
     "metadata": {},
     "source": [
      "As a sanity check, run the following to check the initial loss and to gradient check the network both with and without regularization. Do the initial losses seem reasonable?\n",
      "\n",
      "For gradient checking, you should expect to see errors around 1e-6 or less."
     ]
    },
    {
     "cell_type": "code",
     "collapsed": false,
     "input": [
      "m, d, h1, h2, C = 2, 15, 20, 30, 10\n",
      "X = np.random.randn(m, d)\n",
      "y = np.random.randint(C, size=(m,))\n",
      "\n",
      "for reg in [0, 3.14]:\n",
      "    print 'Running check with reg = ', reg\n",
      "    model = FullyConnectedNet([h1, h2], input_dim=d, num_classes=C,\n",
      "                            reg=reg, weight_scale=5e-2, dtype=np.float64)\n",
      "    loss, grads = model.loss(X, y)\n",
      "    print 'Initial loss: ', loss\n",
      "    for name in sorted(grads):\n",
      "        f = lambda _: model.loss(X, y)[0]\n",
      "        grad_num = eval_numerical_gradient(f, model.params[name], verbose=False, h=1e-5)\n",
      "        print '%s relative error: %.2e' % (name, rel_error(grad_num, grads[name]))"
     ],
     "language": "python",
     "metadata": {},
     "outputs": [
      {
       "output_type": "stream",
       "stream": "stdout",
       "text": [
        "Running check with reg =  0\n",
        "Initial loss:  2.2999542570874496\n",
        "theta1 relative error: 1.83e-06"
       ]
      },
      {
       "output_type": "stream",
       "stream": "stdout",
       "text": [
        "\n",
        "theta1_0 relative error: 1.57e-07\n",
        "theta2 relative error: 1.55e-06"
       ]
      },
      {
       "output_type": "stream",
       "stream": "stdout",
       "text": [
        "\n",
        "theta2_0 relative error: 4.16e-09\n",
        "theta3 relative error: 3.02e-07"
       ]
      },
      {
       "output_type": "stream",
       "stream": "stdout",
       "text": [
        "\n",
        "theta3_0 relative error: 1.23e-10\n",
        "Running check with reg =  3.14\n",
        "Initial loss:  7.1384877403466716\n",
        "theta1 relative error: 3.45e-08"
       ]
      },
      {
       "output_type": "stream",
       "stream": "stdout",
       "text": [
        "\n",
        "theta1_0 relative error: 1.39e-08\n",
        "theta2 relative error: 8.50e-08"
       ]
      },
      {
       "output_type": "stream",
       "stream": "stdout",
       "text": [
        "\n",
        "theta2_0 relative error: 1.83e-08\n",
        "theta3 relative error: 2.15e-08"
       ]
      },
      {
       "output_type": "stream",
       "stream": "stdout",
       "text": [
        "\n",
        "theta3_0 relative error: 4.42e-10\n"
       ]
      }
     ],
     "prompt_number": 29
    },
    {
     "cell_type": "markdown",
     "metadata": {},
     "source": [
      "As another sanity check, make sure you can overfit a small dataset of 50 images. First we will try a three-layer network with 100 units in each hidden layer. You will need to tweak the learning rate and initialization scale, but you should be able to overfit and achieve 100% training accuracy within 20 epochs."
     ]
    },
    {
     "cell_type": "code",
     "collapsed": false,
     "input": [
      "# TODO: Use a three-layer Net to overfit 50 training examples.\n",
      "\n",
      "num_train = 50\n",
      "small_data = {\n",
      "  'X_train': data['X_train'][:num_train],\n",
      "  'y_train': data['y_train'][:num_train],\n",
      "  'X_val': data['X_val'],\n",
      "  'y_val': data['y_val'],\n",
      "}\n",
      "\n",
      "weight_scale = 1e-2                #1e-2\n",
      "learning_rate = 1.3e-2               #1.3e-2\n",
      "model = FullyConnectedNet([100, 100],\n",
      "              weight_scale=weight_scale, dtype=np.float64)\n",
      "solver = Solver(model, small_data,\n",
      "                print_every=10, num_epochs=20, batch_size=25,\n",
      "                update_rule='sgd',\n",
      "                optim_config={\n",
      "                  'learning_rate': learning_rate,\n",
      "                }\n",
      "         )\n",
      "solver.train()\n",
      "\n",
      "plt.plot(solver.loss_history, 'o')\n",
      "plt.title('Training loss history')\n",
      "plt.xlabel('Iteration')\n",
      "plt.ylabel('Training loss')\n",
      "plt.show()\n",
      "\n",
      "plt.subplot(2, 1, 1)\n",
      "plt.title('Training loss')\n",
      "plt.plot(solver.loss_history, 'o')\n",
      "plt.xlabel('Iteration')\n",
      "\n",
      "plt.subplot(2, 1, 2)\n",
      "plt.title('Accuracy')\n",
      "plt.plot(solver.train_acc_history, '-o', label='train')\n",
      "plt.plot(solver.val_acc_history, '-o', label='val')\n",
      "plt.plot([0.5] * len(solver.val_acc_history), 'k--')\n",
      "plt.xlabel('Epoch')\n",
      "plt.legend(loc='lower right')\n",
      "plt.gcf().set_size_inches(15, 12)\n",
      "plt.show()"
     ],
     "language": "python",
     "metadata": {
      "scrolled": false
     },
     "outputs": [
      {
       "output_type": "stream",
       "stream": "stdout",
       "text": [
        "(Iteration 1 / 40) loss: 2.300351\n",
        "(Epoch 0 / 20) train acc: 0.300000; val_acc: 0.109000"
       ]
      },
      {
       "output_type": "stream",
       "stream": "stdout",
       "text": [
        "\n",
        "(Epoch 1 / 20) train acc: 0.340000; val_acc: 0.123000"
       ]
      },
      {
       "output_type": "stream",
       "stream": "stdout",
       "text": [
        "\n",
        "(Epoch 2 / 20) train acc: 0.340000; val_acc: 0.143000"
       ]
      },
      {
       "output_type": "stream",
       "stream": "stdout",
       "text": [
        "\n",
        "(Epoch 3 / 20) train acc: 0.360000; val_acc: 0.149000"
       ]
      },
      {
       "output_type": "stream",
       "stream": "stdout",
       "text": [
        "\n",
        "(Epoch 4 / 20) train acc: 0.480000; val_acc: 0.161000"
       ]
      },
      {
       "output_type": "stream",
       "stream": "stdout",
       "text": [
        "\n",
        "(Epoch 5 / 20) train acc: 0.440000; val_acc: 0.121000"
       ]
      },
      {
       "output_type": "stream",
       "stream": "stdout",
       "text": [
        "\n",
        "(Iteration 11 / 40) loss: 1.602481\n",
        "(Epoch 6 / 20) train acc: 0.420000; val_acc: 0.156000"
       ]
      },
      {
       "output_type": "stream",
       "stream": "stdout",
       "text": [
        "\n",
        "(Epoch 7 / 20) train acc: 0.500000; val_acc: 0.125000"
       ]
      },
      {
       "output_type": "stream",
       "stream": "stdout",
       "text": [
        "\n",
        "(Epoch 8 / 20) train acc: 0.580000; val_acc: 0.135000"
       ]
      },
      {
       "output_type": "stream",
       "stream": "stdout",
       "text": [
        "\n",
        "(Epoch 9 / 20) train acc: 0.600000; val_acc: 0.133000"
       ]
      },
      {
       "output_type": "stream",
       "stream": "stdout",
       "text": [
        "\n",
        "(Epoch 10 / 20) train acc: 0.660000; val_acc: 0.139000"
       ]
      },
      {
       "output_type": "stream",
       "stream": "stdout",
       "text": [
        "\n",
        "(Iteration 21 / 40) loss: 0.792975\n",
        "(Epoch 11 / 20) train acc: 0.660000; val_acc: 0.142000"
       ]
      },
      {
       "output_type": "stream",
       "stream": "stdout",
       "text": [
        "\n",
        "(Epoch 12 / 20) train acc: 0.700000; val_acc: 0.143000"
       ]
      },
      {
       "output_type": "stream",
       "stream": "stdout",
       "text": [
        "\n",
        "(Epoch 13 / 20) train acc: 0.680000; val_acc: 0.150000"
       ]
      },
      {
       "output_type": "stream",
       "stream": "stdout",
       "text": [
        "\n",
        "(Epoch 14 / 20) train acc: 0.680000; val_acc: 0.143000"
       ]
      },
      {
       "output_type": "stream",
       "stream": "stdout",
       "text": [
        "\n",
        "(Epoch 15 / 20) train acc: 0.680000; val_acc: 0.148000"
       ]
      },
      {
       "output_type": "stream",
       "stream": "stdout",
       "text": [
        "\n",
        "(Iteration 31 / 40) loss: 0.617697\n",
        "(Epoch 16 / 20) train acc: 0.680000; val_acc: 0.147000"
       ]
      },
      {
       "output_type": "stream",
       "stream": "stdout",
       "text": [
        "\n",
        "(Epoch 17 / 20) train acc: 0.680000; val_acc: 0.146000"
       ]
      },
      {
       "output_type": "stream",
       "stream": "stdout",
       "text": [
        "\n",
        "(Epoch 18 / 20) train acc: 0.700000; val_acc: 0.150000"
       ]
      },
      {
       "output_type": "stream",
       "stream": "stdout",
       "text": [
        "\n",
        "(Epoch 19 / 20) train acc: 0.780000; val_acc: 0.151000"
       ]
      },
      {
       "output_type": "stream",
       "stream": "stdout",
       "text": [
        "\n",
        "(Epoch 20 / 20) train acc: 0.760000; val_acc: 0.157000"
       ]
      },
      {
       "output_type": "stream",
       "stream": "stdout",
       "text": [
        "\n"
       ]
      },
      {
       "metadata": {},
       "output_type": "display_data",
       "png": "[encoded data removed]",
       "text": [
        "<matplotlib.figure.Figure at 0x7f79c6c0e490>"
       ]
      },
      {
       "metadata": {},
       "output_type": "display_data",
       "png": "[encoded data removed]",
       "text": [
        "<matplotlib.figure.Figure at 0x7f79c6f7e310>"
       ]
      }
     ],
     "prompt_number": 84
    },
    {
     "cell_type": "markdown",
     "metadata": {},
     "source": [
      "Now try to use a five-layer network with 100 units on each layer to overfit 50 training examples. Again you will have to adjust the learning rate and weight initialization, but you should be able to achieve 100% training accuracy within 20 epochs."
     ]
    },
    {
     "cell_type": "code",
     "collapsed": false,
     "input": [
      "# TODO: Use a five-layer Net to overfit 50 training examples.\n",
      "\n",
      "num_train = 50\n",
      "small_data = {\n",
      "  'X_train': data['X_train'][:num_train],\n",
      "  'y_train': data['y_train'][:num_train],\n",
      "  'X_val': data['X_val'],\n",
      "  'y_val': data['y_val'],\n",
      "}\n",
      "\n",
      "learning_rate = 1.2e-2\n",
      "weight_scale = 1e-4\n",
      "model = FullyConnectedNet([100, 100, 100, 100],\n",
      "                weight_scale=weight_scale, dtype=np.float64)\n",
      "solver = Solver(model, small_data,\n",
      "                print_every=10, num_epochs=20, batch_size=25,\n",
      "                update_rule='sgd',\n",
      "                optim_config={\n",
      "                  'learning_rate': learning_rate,\n",
      "                }\n",
      "         )\n",
      "solver.train()\n",
      "\n",
      "plt.plot(solver.loss_history, 'o')\n",
      "plt.title('Training loss history')\n",
      "plt.xlabel('Iteration')\n",
      "plt.ylabel('Training loss')\n",
      "plt.show()\n",
      "\n",
      "plt.subplot(2, 1, 1)\n",
      "plt.title('Training loss')\n",
      "plt.plot(solver.loss_history, 'o')\n",
      "plt.xlabel('Iteration')\n",
      "\n",
      "plt.subplot(2, 1, 2)\n",
      "plt.title('Accuracy')\n",
      "plt.plot(solver.train_acc_history, '-o', label='train')\n",
      "plt.plot(solver.val_acc_history, '-o', label='val')\n",
      "plt.plot([0.5] * len(solver.val_acc_history), 'k--')\n",
      "plt.xlabel('Epoch')\n",
      "plt.legend(loc='lower right')\n",
      "plt.gcf().set_size_inches(15, 12)\n",
      "plt.show()"
     ],
     "language": "python",
     "metadata": {},
     "outputs": [
      {
       "output_type": "stream",
       "stream": "stdout",
       "text": [
        "(Iteration 1 / 40) loss: 2.302585\n",
        "(Epoch 0 / 20) train acc: 0.160000; val_acc: 0.112000"
       ]
      },
      {
       "output_type": "stream",
       "stream": "stdout",
       "text": [
        "\n",
        "(Epoch 1 / 20) train acc: 0.160000; val_acc: 0.112000"
       ]
      },
      {
       "output_type": "stream",
       "stream": "stdout",
       "text": [
        "\n",
        "(Epoch 2 / 20) train acc: 0.160000; val_acc: 0.112000"
       ]
      },
      {
       "output_type": "stream",
       "stream": "stdout",
       "text": [
        "\n",
        "(Epoch 3 / 20) train acc: 0.160000; val_acc: 0.112000"
       ]
      },
      {
       "output_type": "stream",
       "stream": "stdout",
       "text": [
        "\n",
        "(Epoch 4 / 20) train acc: 0.160000; val_acc: 0.112000"
       ]
      },
      {
       "output_type": "stream",
       "stream": "stdout",
       "text": [
        "\n",
        "(Epoch 5 / 20) train acc: 0.160000; val_acc: 0.112000"
       ]
      },
      {
       "output_type": "stream",
       "stream": "stdout",
       "text": [
        "\n",
        "(Iteration 11 / 40) loss: 2.301158\n",
        "(Epoch 6 / 20) train acc: 0.160000; val_acc: 0.112000"
       ]
      },
      {
       "output_type": "stream",
       "stream": "stdout",
       "text": [
        "\n",
        "(Epoch 7 / 20) train acc: 0.160000; val_acc: 0.112000"
       ]
      },
      {
       "output_type": "stream",
       "stream": "stdout",
       "text": [
        "\n",
        "(Epoch 8 / 20) train acc: 0.160000; val_acc: 0.112000"
       ]
      },
      {
       "output_type": "stream",
       "stream": "stdout",
       "text": [
        "\n",
        "(Epoch 9 / 20) train acc: 0.160000; val_acc: 0.112000"
       ]
      },
      {
       "output_type": "stream",
       "stream": "stdout",
       "text": [
        "\n",
        "(Epoch 10 / 20) train acc: 0.160000; val_acc: 0.112000"
       ]
      },
      {
       "output_type": "stream",
       "stream": "stdout",
       "text": [
        "\n",
        "(Iteration 21 / 40) loss: 2.302515\n",
        "(Epoch 11 / 20) train acc: 0.160000; val_acc: 0.112000"
       ]
      },
      {
       "output_type": "stream",
       "stream": "stdout",
       "text": [
        "\n",
        "(Epoch 12 / 20) train acc: 0.160000; val_acc: 0.112000"
       ]
      },
      {
       "output_type": "stream",
       "stream": "stdout",
       "text": [
        "\n",
        "(Epoch 13 / 20) train acc: 0.160000; val_acc: 0.112000"
       ]
      },
      {
       "output_type": "stream",
       "stream": "stdout",
       "text": [
        "\n",
        "(Epoch 14 / 20) train acc: 0.160000; val_acc: 0.112000"
       ]
      },
      {
       "output_type": "stream",
       "stream": "stdout",
       "text": [
        "\n",
        "(Epoch 15 / 20) train acc: 0.160000; val_acc: 0.112000"
       ]
      },
      {
       "output_type": "stream",
       "stream": "stdout",
       "text": [
        "\n",
        "(Iteration 31 / 40) loss: 2.301870\n",
        "(Epoch 16 / 20) train acc: 0.160000; val_acc: 0.112000"
       ]
      },
      {
       "output_type": "stream",
       "stream": "stdout",
       "text": [
        "\n",
        "(Epoch 17 / 20) train acc: 0.160000; val_acc: 0.112000"
       ]
      },
      {
       "output_type": "stream",
       "stream": "stdout",
       "text": [
        "\n",
        "(Epoch 18 / 20) train acc: 0.160000; val_acc: 0.112000"
       ]
      },
      {
       "output_type": "stream",
       "stream": "stdout",
       "text": [
        "\n",
        "(Epoch 19 / 20) train acc: 0.160000; val_acc: 0.112000"
       ]
      },
      {
       "output_type": "stream",
       "stream": "stdout",
       "text": [
        "\n",
        "(Epoch 20 / 20) train acc: 0.160000; val_acc: 0.112000"
       ]
      },
      {
       "output_type": "stream",
       "stream": "stdout",
       "text": [
        "\n"
       ]
      },
      {
       "metadata": {},
       "output_type": "display_data",
       "png": "[encoded data removed]",
       "text": [
        "<matplotlib.figure.Figure at 0x7f79c6b9f690>"
       ]
      },
      {
       "metadata": {},
       "output_type": "display_data",
       "png": "[encoded data removed]",
       "text": [
        "<matplotlib.figure.Figure at 0x7f79c6b9f4d0>"
       ]
      }
     ],
     "prompt_number": 104
    },
    {
     "cell_type": "markdown",
     "metadata": {},
     "source": [
      "# Inline question: \n",
      "Did you notice anything about the comparative difficulty of training the three-layer net vs training the five layer net?\n",
      "\n",
      "# Answer:\n",
      "[FILL THIS IN]\n"
     ]
    },
    {
     "cell_type": "markdown",
     "metadata": {},
     "source": [
      "# Update rules\n",
      "So far we have used vanilla stochastic gradient descent (SGD) as our update rule. More sophisticated update rules can make it easier to train deep networks. We will implement a few of the most commonly used update rules and compare them to vanilla SGD."
     ]
    },
    {
     "cell_type": "markdown",
     "metadata": {},
     "source": [
      "# SGD+Momentum\n",
      "Stochastic gradient descent with momentum is a widely used update rule that tends to make deep networks converge faster than vanilla stochstic gradient descent.\n",
      "\n",
      "Open the file `optim.py` and read the documentation at the top of the file to make sure you understand the API. Implement the SGD+momentum update rule in the function `sgd_momentum` and run the following to check your implementation. You should see errors less than 1e-8."
     ]
    },
    {
     "cell_type": "code",
     "collapsed": false,
     "input": [
      "from optim import sgd_momentum\n",
      "\n",
      "m, d = 4, 5\n",
      "theta = np.linspace(-0.4, 0.6, num=m*d).reshape(m, d)\n",
      "dtheta = np.linspace(-0.6, 0.4, num=m*d).reshape(m, d)\n",
      "v = np.linspace(0.6, 0.9, num=m*d).reshape(m, d)\n",
      "\n",
      "config = {'learning_rate': 1e-3, 'velocity': v}\n",
      "next_theta, _ = sgd_momentum(theta, dtheta, config=config)\n",
      "\n",
      "expected_next_theta = np.asarray([\n",
      "  [ 0.1406,      0.20738947,  0.27417895,  0.34096842,  0.40775789],\n",
      "  [ 0.47454737,  0.54133684,  0.60812632,  0.67491579,  0.74170526],\n",
      "  [ 0.80849474,  0.87528421,  0.94207368,  1.00886316,  1.07565263],\n",
      "  [ 1.14244211,  1.20923158,  1.27602105,  1.34281053,  1.4096    ]])\n",
      "expected_velocity = np.asarray([\n",
      "  [ 0.5406,      0.55475789,  0.56891579, 0.58307368,  0.59723158],\n",
      "  [ 0.61138947,  0.62554737,  0.63970526,  0.65386316,  0.66802105],\n",
      "  [ 0.68217895,  0.69633684,  0.71049474,  0.72465263,  0.73881053],\n",
      "  [ 0.75296842,  0.76712632,  0.78128421,  0.79544211,  0.8096    ]])\n",
      "\n",
      "print 'next_theta error: ', rel_error(next_theta, expected_next_theta)\n",
      "print 'velocity error: ', rel_error(expected_velocity, config['velocity'])"
     ],
     "language": "python",
     "metadata": {},
     "outputs": [],
     "prompt_number": null
    },
    {
     "cell_type": "markdown",
     "metadata": {},
     "source": [
      "Once you have done so, run the following to train a six-layer network with both SGD and SGD+momentum. You should see the SGD+momentum update rule converge faster."
     ]
    },
    {
     "cell_type": "code",
     "collapsed": false,
     "input": [
      "num_train = 4000\n",
      "small_data = {\n",
      "  'X_train': data['X_train'][:num_train],\n",
      "  'y_train': data['y_train'][:num_train],\n",
      "  'X_val': data['X_val'],\n",
      "  'y_val': data['y_val'],\n",
      "}\n",
      "\n",
      "solvers = {}\n",
      "\n",
      "for update_rule in ['sgd', 'sgd_momentum']:\n",
      "  print 'running with ', update_rule\n",
      "  model = FullyConnectedNet([100, 100, 100, 100, 100], weight_scale=5e-2)\n",
      "\n",
      "  solver = Solver(model, small_data,\n",
      "                  num_epochs=5, batch_size=100,\n",
      "                  update_rule=update_rule,\n",
      "                  optim_config={\n",
      "                    'learning_rate': 1e-2,\n",
      "                  },\n",
      "                  verbose=True)\n",
      "  solvers[update_rule] = solver\n",
      "  solver.train()\n",
      "  print\n",
      "\n",
      "plt.subplot(3, 1, 1)\n",
      "plt.title('Training loss')\n",
      "plt.xlabel('Iteration')\n",
      "\n",
      "plt.subplot(3, 1, 2)\n",
      "plt.title('Training accuracy')\n",
      "plt.xlabel('Epoch')\n",
      "\n",
      "plt.subplot(3, 1, 3)\n",
      "plt.title('Validation accuracy')\n",
      "plt.xlabel('Epoch')\n",
      "\n",
      "for update_rule, solver in solvers.iteritems():\n",
      "  plt.subplot(3, 1, 1)\n",
      "  plt.plot(solver.loss_history, 'o', label=update_rule)\n",
      "  \n",
      "  plt.subplot(3, 1, 2)\n",
      "  plt.plot(solver.train_acc_history, '-o', label=update_rule)\n",
      "\n",
      "  plt.subplot(3, 1, 3)\n",
      "  plt.plot(solver.val_acc_history, '-o', label=update_rule)\n",
      "  \n",
      "for i in [1, 2, 3]:\n",
      "  plt.subplot(3, 1, i)\n",
      "  plt.legend(loc='upper center', ncol=4)\n",
      "plt.gcf().set_size_inches(15, 15)\n",
      "plt.show()"
     ],
     "language": "python",
     "metadata": {
      "scrolled": false
     },
     "outputs": [],
     "prompt_number": null
    },
    {
     "cell_type": "markdown",
     "metadata": {},
     "source": [
      "# RMSProp and Adam\n",
      "RMSProp [1] and Adam [2] are update rules that set per-parameter learning rates by using a running average of the second moments of gradients.\n",
      "\n",
      "In the file `optim.py`, implement the RMSProp update rule in the `rmsprop` function and implement the Adam update rule in the `adam` function, and check your implementations using the tests below.\n",
      "\n",
      "[1] Tijmen Tieleman and Geoffrey Hinton. \"Lecture 6.5-rmsprop: Divide the gradient by a running average of its recent magnitude.\" COURSERA: Neural Networks for Machine Learning 4 (2012).\n",
      "\n",
      "[2] Diederik Kingma and Jimmy Ba, \"Adam: A Method for Stochastic Optimization\", ICLR 2015."
     ]
    },
    {
     "cell_type": "code",
     "collapsed": false,
     "input": [
      "# Test RMSProp implementation; you should see errors less than 1e-7\n",
      "from optim import rmsprop\n",
      "\n",
      "m, d = 4, 5\n",
      "theta = np.linspace(-0.4, 0.6, num=m*d).reshape(m, d)\n",
      "dtheta = np.linspace(-0.6, 0.4, num=m*d).reshape(m, d)\n",
      "cache = np.linspace(0.6, 0.9, num=m*d).reshape(m, d)\n",
      "\n",
      "config = {'learning_rate': 1e-2, 'cache': cache}\n",
      "next_theta, _ = rmsprop(theta, dtheta, config=config)\n",
      "\n",
      "expected_next_theta = np.asarray([\n",
      "  [-0.39223849, -0.34037513, -0.28849239, -0.23659121, -0.18467247],\n",
      "  [-0.132737,   -0.08078555, -0.02881884,  0.02316247,  0.07515774],\n",
      "  [ 0.12716641,  0.17918792,  0.23122175,  0.28326742,  0.33532447],\n",
      "  [ 0.38739248,  0.43947102,  0.49155973,  0.54365823,  0.59576619]])\n",
      "expected_cache = np.asarray([\n",
      "  [ 0.5976,      0.6126277,   0.6277108,   0.64284931,  0.65804321],\n",
      "  [ 0.67329252,  0.68859723,  0.70395734,  0.71937285,  0.73484377],\n",
      "  [ 0.75037008,  0.7659518,   0.78158892,  0.79728144,  0.81302936],\n",
      "  [ 0.82883269,  0.84469141,  0.86060554,  0.87657507,  0.8926    ]])\n",
      "\n",
      "print 'next_theta error: ', rel_error(expected_next_theta, next_theta)\n",
      "print 'cache error: ', rel_error(expected_cache, config['cache'])"
     ],
     "language": "python",
     "metadata": {},
     "outputs": [],
     "prompt_number": null
    },
    {
     "cell_type": "code",
     "collapsed": false,
     "input": [
      "# Test Adam implementation; you should see errors around 1e-7 or less\n",
      "from optim import adam\n",
      "\n",
      "n, d = 4, 5\n",
      "theta = np.linspace(-0.4, 0.6, num=n*d).reshape(n, d)\n",
      "dtheta = np.linspace(-0.6, 0.4, num=n*d).reshape(n, d)\n",
      "m = np.linspace(0.6, 0.9, num=n*d).reshape(n, d)\n",
      "v = np.linspace(0.7, 0.5, num=n*d).reshape(n, d)\n",
      "\n",
      "config = {'learning_rate': 1e-2, 'm': m, 'v': v, 't': 5}\n",
      "next_theta, _ = adam(theta, dtheta, config=config)\n",
      "\n",
      "expected_next_theta = np.asarray([\n",
      "  [-0.40094747, -0.34836187, -0.29577703, -0.24319299, -0.19060977],\n",
      "  [-0.1380274,  -0.08544591, -0.03286534,  0.01971428,  0.0722929],\n",
      "  [ 0.1248705,   0.17744702,  0.23002243,  0.28259667,  0.33516969],\n",
      "  [ 0.38774145,  0.44031188,  0.49288093,  0.54544852,  0.59801459]])\n",
      "expected_v = np.asarray([\n",
      "  [ 0.69966,     0.68908382,  0.67851319,  0.66794809,  0.65738853,],\n",
      "  [ 0.64683452,  0.63628604,  0.6257431,   0.61520571,  0.60467385,],\n",
      "  [ 0.59414753,  0.58362676,  0.57311152,  0.56260183,  0.55209767,],\n",
      "  [ 0.54159906,  0.53110598,  0.52061845,  0.51013645,  0.49966,   ]])\n",
      "expected_m = np.asarray([\n",
      "  [ 0.48,        0.49947368,  0.51894737,  0.53842105,  0.55789474],\n",
      "  [ 0.57736842,  0.59684211,  0.61631579,  0.63578947,  0.65526316],\n",
      "  [ 0.67473684,  0.69421053,  0.71368421,  0.73315789,  0.75263158],\n",
      "  [ 0.77210526,  0.79157895,  0.81105263,  0.83052632,  0.85      ]])\n",
      "\n",
      "print 'next_theta error: ', rel_error(expected_next_theta, next_theta)\n",
      "print 'v error: ', rel_error(expected_v, config['v'])\n",
      "print 'm error: ', rel_error(expected_m, config['m'])"
     ],
     "language": "python",
     "metadata": {},
     "outputs": [],
     "prompt_number": null
    },
    {
     "cell_type": "markdown",
     "metadata": {},
     "source": [
      "Once you have debugged your RMSProp and Adam implementations, run the following to train a pair of deep networks using these new update rules:"
     ]
    },
    {
     "cell_type": "code",
     "collapsed": false,
     "input": [
      "learning_rates = {'rmsprop': 1e-4, 'adam': 1e-3}\n",
      "for update_rule in ['adam', 'rmsprop']:\n",
      "  print 'running with ', update_rule\n",
      "  model = FullyConnectedNet([100, 100, 100, 100, 100], weight_scale=5e-2)\n",
      "\n",
      "  solver = Solver(model, small_data,\n",
      "                  num_epochs=5, batch_size=100,\n",
      "                  update_rule=update_rule,\n",
      "                  optim_config={\n",
      "                    'learning_rate': learning_rates[update_rule]\n",
      "                  },\n",
      "                  verbose=True)\n",
      "  solvers[update_rule] = solver\n",
      "  solver.train()\n",
      "  print\n",
      "\n",
      "plt.subplot(3, 1, 1)\n",
      "plt.title('Training loss')\n",
      "plt.xlabel('Iteration')\n",
      "\n",
      "plt.subplot(3, 1, 2)\n",
      "plt.title('Training accuracy')\n",
      "plt.xlabel('Epoch')\n",
      "\n",
      "plt.subplot(3, 1, 3)\n",
      "plt.title('Validation accuracy')\n",
      "plt.xlabel('Epoch')\n",
      "\n",
      "for update_rule, solver in solvers.iteritems():\n",
      "  plt.subplot(3, 1, 1)\n",
      "  plt.plot(solver.loss_history, 'o', label=update_rule)\n",
      "  \n",
      "  plt.subplot(3, 1, 2)\n",
      "  plt.plot(solver.train_acc_history, '-o', label=update_rule)\n",
      "\n",
      "  plt.subplot(3, 1, 3)\n",
      "  plt.plot(solver.val_acc_history, '-o', label=update_rule)\n",
      "  \n",
      "for i in [1, 2, 3]:\n",
      "  plt.subplot(3, 1, i)\n",
      "  plt.legend(loc='upper center', ncol=4)\n",
      "plt.gcf().set_size_inches(15, 15)\n",
      "plt.show()"
     ],
     "language": "python",
     "metadata": {},
     "outputs": [],
     "prompt_number": null
    },
    {
     "cell_type": "markdown",
     "metadata": {},
     "source": [
      "# Train a good model!\n",
      "Train the best fully-connected model that you can on CIFAR-10, storing your best model in the `best_model` variable. We require you to get at least 50% accuracy on the validation set using a fully-connected net.\n",
      "\n",
      "If you are careful it should be possible to get accuracies above 55%, but we don't require it for this part and won't assign extra credit for doing so. Later in the assignment we will ask you to train the best convolutional network that you can on CIFAR-10, and we would prefer that you spend your effort working on convolutional nets rather than fully-connected nets.\n",
      "\n",
      "You might find it useful to complete the  `Dropout.ipynb` notebooks before completing this part, since this technique can help you train powerful models."
     ]
    },
    {
     "cell_type": "code",
     "collapsed": false,
     "input": [
      "best_model = None\n",
      "################################################################################\n",
      "# TODO: Train the best FullyConnectedNet that you can on CIFAR-10. You might   #\n",
      "# batch normalization and dropout useful. Store your best model in the         #\n",
      "# best_model variable.                                                         #\n",
      "################################################################################\n",
      "pass\n",
      "################################################################################\n",
      "#                              END OF YOUR CODE                                #\n",
      "################################################################################"
     ],
     "language": "python",
     "metadata": {
      "scrolled": false
     },
     "outputs": [],
     "prompt_number": null
    },
    {
     "cell_type": "markdown",
     "metadata": {},
     "source": [
      "# Test your model\n",
      "Run your best model on the validation and test sets. You should achieve above 50% accuracy on the validation set."
     ]
    },
    {
     "cell_type": "code",
     "collapsed": false,
     "input": [
      "y_test_pred = np.argmax(best_model.loss(X_test), axis=1)\n",
      "y_val_pred = np.argmax(best_model.loss(X_val), axis=1)\n",
      "print 'Validation set accuracy: ', (y_val_pred == y_val).mean()\n",
      "print 'Test set accuracy: ', (y_test_pred == y_test).mean()"
     ],
     "language": "python",
     "metadata": {},
     "outputs": [],
     "prompt_number": null
    }
   ],
   "metadata": {}
  }
 ]
}